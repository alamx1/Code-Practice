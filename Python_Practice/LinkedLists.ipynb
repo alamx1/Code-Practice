{
 "metadata": {
  "language_info": {
   "codemirror_mode": {
    "name": "ipython",
    "version": 3
   },
   "file_extension": ".py",
   "mimetype": "text/x-python",
   "name": "python",
   "nbconvert_exporter": "python",
   "pygments_lexer": "ipython3",
   "version": "3.7.6"
  },
  "orig_nbformat": 2,
  "kernelspec": {
   "name": "python376jvsc74a57bd095422eeb9f4fdf84889173d01eeccce4fc3dea773af7aa5c397e120572c2eba9",
   "display_name": "Python 3.7.6 64-bit ('base': conda)"
  }
 },
 "nbformat": 4,
 "nbformat_minor": 2,
 "cells": [
  {
   "source": [
    "# Linked Lists"
   ],
   "cell_type": "markdown",
   "metadata": {}
  },
  {
   "source": [
    "## Singly Linked Lists"
   ],
   "cell_type": "markdown",
   "metadata": {}
  },
  {
   "cell_type": "code",
   "execution_count": 29,
   "metadata": {},
   "outputs": [],
   "source": [
    "\"\"\"\n",
    "    Singly Linked List\n",
    "\n",
    "    This is the basic definition of a Singly Linked List and a Node class.\n",
    "\"\"\"\n",
    "class Node:\n",
    "    def __init__(self, key = None):\n",
    "        self.key = key\n",
    "        self.next = None\n",
    "\n",
    "class SLinkedList:\n",
    "    def __init__(self):\n",
    "        self.head = None\n",
    "    \"\"\"\n",
    "    Traversal\n",
    "    \"\"\"\n",
    "    # This print method is used to illustrate a traversal\n",
    "    def print(self):\n",
    "        temp = self.head\n",
    "        listString = \"\"\n",
    "        while temp is not None:\n",
    "            # print (temp.key)\n",
    "            listString += temp.key\n",
    "            listString += \" -> \"\n",
    "            temp = temp.next\n",
    "        listString += \"None\"\n",
    "        print(listString)\n",
    "\n",
    "    def find(self,key) -> Node:\n",
    "        temp = self.head\n",
    "        while temp.key is not key:\n",
    "            temp = temp.next        \n",
    "        return temp\n",
    "\n",
    "    \"\"\"\n",
    "    Insertion \n",
    "    \"\"\"\n",
    "    # Head Insertion \n",
    "    # Function to insert a new node at the begining\n",
    "    def insertAtBeginning(self,newkey):\n",
    "        NewNode = Node(newkey) # Initialize new node\n",
    "        NewNode.next = self.head # Update the new node's next val to existing head node\n",
    "        self.head = NewNode # Update head to be the new node\n",
    "\n",
    "    # Tail Insertion\n",
    "    # Function to insert new node at the end of the list\n",
    "    # Function to add newnode\n",
    "    def insertAtEnd(self, newkey):\n",
    "        NewNode = Node(newkey) # Initialize new node\n",
    "        if self.head is None: # If list is empty, assign new node to head\n",
    "            self.head = NewNode\n",
    "            return\n",
    "        last = self.head # List is not empty, then commence list traversal\n",
    "        while(last.next): # Traverse list\n",
    "            last = last.next\n",
    "        last.next = NewNode # Assign new node to last list-node's next\n",
    "\n",
    "    # Inner Insertion\n",
    "    def insertAtNode(self,middle_node,newkey):\n",
    "        if middle_node is None:\n",
    "            print(\"The mentioned node is absent\")\n",
    "            return\n",
    "\n",
    "        NewNode = Node(newkey) # Initialize new node\n",
    "        NewNode.next = middle_node.next # Set new node's next to middle node's next\n",
    "        middle_node.next = NewNode # Update middle node's next to be the new node\n",
    "\n",
    "    \"\"\"\n",
    "    Deletion\n",
    "    \"\"\"\n",
    "    # Function to remove node\n",
    "    def removeNodeWithkey(self, Removekey):\n",
    "\n",
    "        head = self.head\n",
    "\n",
    "\n",
    "        # Check first node if list is not empty\n",
    "        if (head is not None):\n",
    "            if (head.key == Removekey):\n",
    "                self.head = head.next\n",
    "                head = None\n",
    "                return\n",
    "\n",
    "        #\n",
    "        while (head is not None):\n",
    "            if head.key == Removekey:\n",
    "                break\n",
    "            prev = head\n",
    "            head = head.next\n",
    "\n",
    "        # Return if list is empty\n",
    "        if (head == None):\n",
    "            return\n",
    "\n",
    "        prev.next = head.next\n",
    "\n",
    "        head = None"
   ]
  },
  {
   "source": [
    "### Creation"
   ],
   "cell_type": "markdown",
   "metadata": {}
  },
  {
   "cell_type": "code",
   "execution_count": 30,
   "metadata": {},
   "outputs": [],
   "source": [
    "list1 = SLinkedList()\n",
    "list1.head = Node(\"Mon\")\n",
    "e2 = Node(\"Tue\")\n",
    "e3 = Node(\"Wed\")\n",
    "# Link first Node to second node\n",
    "list1.head.next = e2\n",
    "\n",
    "# Link second Node to third node\n",
    "e2.next = e3"
   ]
  },
  {
   "source": [
    "### Traversal"
   ],
   "cell_type": "markdown",
   "metadata": {}
  },
  {
   "cell_type": "code",
   "execution_count": 31,
   "metadata": {},
   "outputs": [
    {
     "output_type": "stream",
     "name": "stdout",
     "text": [
      "Mon -> Tue -> Wed -> None\nNode wed is of type  <class '__main__.Node'>  with key  Wed\n"
     ]
    }
   ],
   "source": [
    "list1.print()\n",
    "wed = list1.find(\"Wed\")\n",
    "print(\"Node wed is of type \", type(wed), \" with key \",wed.key)"
   ]
  },
  {
   "source": [
    "### Insertion\n",
    "#### Head Insertion"
   ],
   "cell_type": "markdown",
   "metadata": {}
  },
  {
   "cell_type": "code",
   "execution_count": 32,
   "metadata": {},
   "outputs": [
    {
     "output_type": "stream",
     "name": "stdout",
     "text": [
      "Sun -> Mon -> Tue -> Wed -> None\n"
     ]
    }
   ],
   "source": [
    "list1.insertAtBeginning(\"Sun\")\n",
    "list1.print()"
   ]
  },
  {
   "source": [
    "#### Tail Insertion"
   ],
   "cell_type": "markdown",
   "metadata": {}
  },
  {
   "cell_type": "code",
   "execution_count": 33,
   "metadata": {},
   "outputs": [
    {
     "output_type": "stream",
     "name": "stdout",
     "text": [
      "Sun -> Mon -> Tue -> Wed -> Fri -> None\n"
     ]
    }
   ],
   "source": [
    "list1.insertAtEnd(\"Fri\")\n",
    "list1.print()"
   ]
  },
  {
   "source": [
    "#### Middle Insertion"
   ],
   "cell_type": "markdown",
   "metadata": {}
  },
  {
   "cell_type": "code",
   "execution_count": 34,
   "metadata": {},
   "outputs": [
    {
     "output_type": "stream",
     "name": "stdout",
     "text": [
      "Sun -> Mon -> Tue -> Wed -> Thr -> Fri -> None\n"
     ]
    }
   ],
   "source": [
    "list1.insertAtNode(wed,\"Thr\")\n",
    "list1.print()"
   ]
  },
  {
   "source": [
    "### Deletion"
   ],
   "cell_type": "markdown",
   "metadata": {}
  },
  {
   "cell_type": "code",
   "execution_count": 35,
   "metadata": {},
   "outputs": [
    {
     "output_type": "stream",
     "name": "stdout",
     "text": [
      "orginal linked list\nSun -> Mon -> Tue -> Wed -> Thr -> Fri -> Fri -> None\nLinked List after removal\nSun -> Mon -> Tue -> Wed -> Thr -> Fri -> None\n"
     ]
    }
   ],
   "source": [
    "list1.insertAtEnd(\"Fri\")\n",
    "print(\"orginal linked list\")\n",
    "list1.print()\n",
    "list1.removeNodeWithkey(\"Fri\")\n",
    "print(\"Linked List after removal\")\n",
    "list1.print()\n"
   ]
  }
 ]
}