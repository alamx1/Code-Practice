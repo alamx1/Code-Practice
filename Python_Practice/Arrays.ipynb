{
 "metadata": {
  "language_info": {
   "codemirror_mode": {
    "name": "ipython",
    "version": 3
   },
   "file_extension": ".py",
   "mimetype": "text/x-python",
   "name": "python",
   "nbconvert_exporter": "python",
   "pygments_lexer": "ipython3",
   "version": "3.7.6"
  },
  "orig_nbformat": 2,
  "kernelspec": {
   "name": "python376jvsc74a57bd095422eeb9f4fdf84889173d01eeccce4fc3dea773af7aa5c397e120572c2eba9",
   "display_name": "Python 3.7.6 64-bit ('base': conda)"
  }
 },
 "nbformat": 4,
 "nbformat_minor": 2,
 "cells": [
  {
   "source": [
    "# Arrays \n",
    "This notebook contains sample problems and their corresponding solutions using Python"
   ],
   "cell_type": "markdown",
   "metadata": {}
  },
  {
   "source": [
    "## 1. Duplicate Zeros\n",
    "Given a fixed length array arr of integers, duplicate each occurrence of zero, shifting the remaining elements to the right. <br>\n",
    "Note that elements beyond the length of the original array are not written. <br>\n",
    "Do the above modifications to the input array in place, do not return anything from your function <br>\n",
    "\n",
    "Example 1: \n",
    "Input: [1,0,2,3,0,4,5,0]<br>\n",
    "Output: null<br>\n",
    "Explanation: After calling your function, the input array is modified to: [1,0,0,2,3,0,0,4]<br>"
   ],
   "cell_type": "markdown",
   "metadata": {}
  },
  {
   "cell_type": "code",
   "execution_count": 53,
   "metadata": {},
   "outputs": [
    {
     "output_type": "stream",
     "name": "stdout",
     "text": [
      "input: \t\t [1, 0, 2, 3, 0, 4, 5, 0]\nmodified input:  [1, 0, 0, 2, 3, 0, 0, 4]\n"
     ]
    }
   ],
   "source": [
    "input = [1,0,2,3,0,4,5,0]\n",
    "print(\"input: \\t\\t\",input)\n",
    "\n",
    "def duplicateZeros(input):\n",
    "    i = 0\n",
    "    length = len(input)\n",
    "    while i < length:\n",
    "        if input[i] == 0:\n",
    "            input.insert(i,0)\n",
    "            input.pop()\n",
    "            i = i+1\n",
    "        i = i+1\n",
    "    \n",
    "duplicateZeros(input)\n",
    "print(\"modified input: \",input)"
   ]
  },
  {
   "source": [
    "## 2. Merge Sorted Array\n",
    "You are given two integer arrays nums1 and nums2, sorted in non-decreasing order, and two integers m and n, representing the number of elements in nums1 and nums2 respectively.<br>\n",
    "Merge nums1 and nums2 into a single array sorted in non-decreasing order.<br>\n",
    "The final sorted array should not be returned by the function, but instead be stored inside the array nums1. To accommodate this, nums1 has a length of m + n, where the first m elements denote the elements that should be merged, and the last n elements are set to 0 and should be ignored. nums2 has a length of n.<br>\n",
    "\n",
    "Example 1<br>\n",
    "Input: nums1 = [1,2,3,0,0,0], m = 3, nums2 = [2,5,6], n = 3<br>\n",
    "Output: [1,2,2,3,5,6]<br>\n",
    "Explanation: The arrays we are merging are [1,2,3] and [2,5,6].<br>\n",
    "The result of the merge is [1,2,2,3,5,6] with the underlined elements coming from nums1.<br>"
   ],
   "cell_type": "markdown",
   "metadata": {}
  },
  {
   "cell_type": "code",
   "execution_count": 87,
   "metadata": {
    "tags": []
   },
   "outputs": [
    {
     "output_type": "stream",
     "name": "stdout",
     "text": [
      "[2, 0] [1]\n0 0 0\n[1, 2]\n1 0 1\n[1, 2]\n"
     ]
    }
   ],
   "source": [
    "nums1 = [2,0]#[1,2,3,0,0,0]\n",
    "m = 1\n",
    "nums2 = [1]#[2,5,6]\n",
    "n = 1\n",
    "\n",
    "def mergeSortedArray(nums1,nums2,m,n):\n",
    "    i = i1 = i2 = 0\n",
    "    while i < (m+n):\n",
    "        print(i,i1,i2)\n",
    "        if n == 0:\n",
    "            return\n",
    "        elif m == 0 and i2 < n:\n",
    "            nums1[i] = nums2[i2]\n",
    "            i2 += 1\n",
    "            i += 1\n",
    "        elif (i2 == n or nums1[i] <= nums2[i2]) and i1 < m: \n",
    "            i1 += 1\n",
    "            i += 1\n",
    "        elif (i1 == m or nums1[i] > nums2[i2]) and i2 < n:     \n",
    "            nums1.insert(i,nums2[i2])\n",
    "            nums1.pop()\n",
    "            i2 += 1\n",
    "            i += 1   \n",
    "        \n",
    "        print(nums1)\n",
    "\n",
    "print(nums1,nums2)\n",
    "mergeSortedArray(nums1,nums2,m,n)"
   ]
  }
 ]
}